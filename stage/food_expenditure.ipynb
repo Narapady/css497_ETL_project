{
 "cells": [
  {
   "cell_type": "code",
   "execution_count": 15,
   "metadata": {},
   "outputs": [],
   "source": [
    "import pandas as pd\n",
    "import numpy as np\n",
    "import os"
   ]
  },
  {
   "cell_type": "markdown",
   "metadata": {},
   "source": [
    "# Current Food Expenditure\n",
    "### monthly_sales.xlsx \n",
    "### How much money do people spend on food each month over the years? At home and eating out\n",
    "### Constant_dollar_expenditures.xlsx\n",
    "### How much money do people spend on food at various places over the years?\n"
   ]
  },
  {
   "cell_type": "code",
   "execution_count": 16,
   "metadata": {},
   "outputs": [
    {
     "data": {
      "text/plain": [
       "0"
      ]
     },
     "execution_count": 16,
     "metadata": {},
     "output_type": "execute_result"
    }
   ],
   "source": [
    "os.system(f\"rm -rf {new_dir}\")"
   ]
  },
  {
   "cell_type": "code",
   "execution_count": 17,
   "metadata": {},
   "outputs": [],
   "source": [
    "new_dir= \"food-expenditure-clean\"\n",
    "os.mkdir(new_dir)"
   ]
  },
  {
   "cell_type": "code",
   "execution_count": 18,
   "metadata": {},
   "outputs": [],
   "source": [
    "df = pd.read_excel(\"./Current Food Expenditure Series/monthly_sales.xlsx\")\n",
    "df.columns = [\"year\", \"month\", \"nominal_fah\", \"nominal_fafh\", \"total_nominal_sales\",\"constant_fah\", \"constant_fafh\", \"total_constant_sales\"]\n",
    "df = df[3:307]\n",
    "nominal_df = df.drop([\"constant_fah\", \"constant_fafh\", \"total_constant_sales\"], axis=1)\n",
    "constant_df = df.drop([\"nominal_fah\", \"nominal_fafh\", \"total_nominal_sales\"], axis=1)\n",
    "nominal_df.to_csv(f\"{new_dir}/nominal-monthly-sale.csv\", index=False)\n",
    "constant_df.to_csv(f\"{new_dir}/constant-monthly-sale.csv\", index=False)"
   ]
  },
  {
   "cell_type": "code",
   "execution_count": 19,
   "metadata": {},
   "outputs": [],
   "source": [
    "paths = [\"./Current Food Expenditure Series/constant_dollar_expenditures.xlsx\",\"./Current Food Expenditure Series/nominal_expenditures.xlsx\"]\n",
    "\n",
    "for path in paths:\n",
    "    df = pd.read_excel(path)\n",
    "    df.columns = df.iloc[3]\n",
    "    df = df[4:29]\n",
    "    year = df[\"Year\"].tolist()\n",
    "    result_dict = {col: i for i, col in enumerate(list(df.columns)) if \"Total\" in col} \n",
    "    df = df.drop(\"Year\", axis=1)\n",
    "\n",
    "    start_pos = 0\n",
    "\n",
    "    for key, end_pos in result_dict.items():\n",
    "        new_df = df.iloc[:, start_pos:end_pos]\n",
    "        new_df.insert(0, \"year\", year)\n",
    "        \n",
    "        prefix = path.split(\"/\")[2].split(\"_\")[0]\n",
    "        filename = prefix + \"-\" + key.lower().replace(\" \", \"-\")\n",
    "        new_df.to_csv(f\"{new_dir}/{filename}.csv\", index=False)\n",
    "        start_pos = end_pos + 1\n",
    "     "
   ]
  },
  {
   "cell_type": "code",
   "execution_count": null,
   "metadata": {},
   "outputs": [],
   "source": []
  }
 ],
 "metadata": {
  "kernelspec": {
   "display_name": "Python 3.9.0 ('env': venv)",
   "language": "python",
   "name": "python3"
  },
  "language_info": {
   "codemirror_mode": {
    "name": "ipython",
    "version": 3
   },
   "file_extension": ".py",
   "mimetype": "text/x-python",
   "name": "python",
   "nbconvert_exporter": "python",
   "pygments_lexer": "ipython3",
   "version": "3.9.0"
  },
  "orig_nbformat": 4,
  "vscode": {
   "interpreter": {
    "hash": "0bd2c8de8d9c1195b39d652bb25b414e6de27504976c0c3cdc160397bb23b095"
   }
  }
 },
 "nbformat": 4,
 "nbformat_minor": 2
}

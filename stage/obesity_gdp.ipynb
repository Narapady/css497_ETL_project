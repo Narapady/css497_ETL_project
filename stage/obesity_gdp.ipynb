{
 "cells": [
  {
   "cell_type": "code",
   "execution_count": 98,
   "metadata": {},
   "outputs": [],
   "source": [
    "import pandas as pd\n",
    "import numpy as np"
   ]
  },
  {
   "cell_type": "markdown",
   "metadata": {},
   "source": [
    "## Obesit_GDP_PanelData.csv (2014 - 2017)\n",
    "- Top states with highest % of obesity\n",
    "- Range regions in terms of obesity %\n",
    "- What age group suffer obesity the most?\n",
    "- Over 4 year (2014 - 2017), what top states in which obesity rate grows significantly\n",
    "- Compare the obesity % of states with higher average salaries to those with lower salaries. How does average income influence obesity\n",
    "- Correlation between GDP and obesity \n"
   ]
  },
  {
   "cell_type": "code",
   "execution_count": 99,
   "metadata": {},
   "outputs": [
    {
     "data": {
      "text/html": [
       "<div>\n",
       "<style scoped>\n",
       "    .dataframe tbody tr th:only-of-type {\n",
       "        vertical-align: middle;\n",
       "    }\n",
       "\n",
       "    .dataframe tbody tr th {\n",
       "        vertical-align: top;\n",
       "    }\n",
       "\n",
       "    .dataframe thead th {\n",
       "        text-align: right;\n",
       "    }\n",
       "</style>\n",
       "<table border=\"1\" class=\"dataframe\">\n",
       "  <thead>\n",
       "    <tr style=\"text-align: right;\">\n",
       "      <th></th>\n",
       "      <th>State</th>\n",
       "      <th>Year</th>\n",
       "      <th>Adult.Obesity</th>\n",
       "      <th>Adult.Obesity*100</th>\n",
       "      <th>Average.Age</th>\n",
       "      <th>Average.Income</th>\n",
       "      <th>Population</th>\n",
       "      <th>Poverty.Rate</th>\n",
       "      <th>Poverty.Rate*100</th>\n",
       "      <th>Real.GDP</th>\n",
       "      <th>Real.GDP.Growth</th>\n",
       "      <th>Real.GDP.Growth*100</th>\n",
       "      <th>Real.Personal.Income</th>\n",
       "      <th>Region</th>\n",
       "      <th>Region.Encoding</th>\n",
       "      <th>Unit</th>\n",
       "      <th>Real.GDP.Per.Capita</th>\n",
       "      <th>YearFE</th>\n",
       "    </tr>\n",
       "  </thead>\n",
       "  <tbody>\n",
       "    <tr>\n",
       "      <th>0</th>\n",
       "      <td>Alabama</td>\n",
       "      <td>2014</td>\n",
       "      <td>0.330</td>\n",
       "      <td>33.0</td>\n",
       "      <td>39</td>\n",
       "      <td>23759.07328</td>\n",
       "      <td>4849377</td>\n",
       "      <td>0.192526</td>\n",
       "      <td>19.25</td>\n",
       "      <td>186335.0</td>\n",
       "      <td>-0.0097</td>\n",
       "      <td>-0.97</td>\n",
       "      <td>201887.4</td>\n",
       "      <td>Southeast Region</td>\n",
       "      <td>5</td>\n",
       "      <td>Millions of chained 2012 dollars</td>\n",
       "      <td>0.038425</td>\n",
       "      <td>2014</td>\n",
       "    </tr>\n",
       "    <tr>\n",
       "      <th>1</th>\n",
       "      <td>Alabama</td>\n",
       "      <td>2015</td>\n",
       "      <td>0.332</td>\n",
       "      <td>33.2</td>\n",
       "      <td>39</td>\n",
       "      <td>24719.75935</td>\n",
       "      <td>4858979</td>\n",
       "      <td>0.184957</td>\n",
       "      <td>18.50</td>\n",
       "      <td>188715.7</td>\n",
       "      <td>0.0128</td>\n",
       "      <td>1.28</td>\n",
       "      <td>210057.1</td>\n",
       "      <td>Southeast Region</td>\n",
       "      <td>5</td>\n",
       "      <td>Millions of chained 2012 dollars</td>\n",
       "      <td>0.038839</td>\n",
       "      <td>2015</td>\n",
       "    </tr>\n",
       "    <tr>\n",
       "      <th>2</th>\n",
       "      <td>Alabama</td>\n",
       "      <td>2016</td>\n",
       "      <td>0.336</td>\n",
       "      <td>33.6</td>\n",
       "      <td>39</td>\n",
       "      <td>25930.17889</td>\n",
       "      <td>4863300</td>\n",
       "      <td>0.170887</td>\n",
       "      <td>17.09</td>\n",
       "      <td>189613.6</td>\n",
       "      <td>0.0048</td>\n",
       "      <td>0.48</td>\n",
       "      <td>212195.6</td>\n",
       "      <td>Southeast Region</td>\n",
       "      <td>5</td>\n",
       "      <td>Millions of chained 2012 dollars</td>\n",
       "      <td>0.038989</td>\n",
       "      <td>2016</td>\n",
       "    </tr>\n",
       "    <tr>\n",
       "      <th>3</th>\n",
       "      <td>Alabama</td>\n",
       "      <td>2017</td>\n",
       "      <td>0.340</td>\n",
       "      <td>34.0</td>\n",
       "      <td>39</td>\n",
       "      <td>26471.72046</td>\n",
       "      <td>4874747</td>\n",
       "      <td>0.168889</td>\n",
       "      <td>16.89</td>\n",
       "      <td>193053.0</td>\n",
       "      <td>0.0181</td>\n",
       "      <td>1.81</td>\n",
       "      <td>215669.8</td>\n",
       "      <td>Southeast Region</td>\n",
       "      <td>5</td>\n",
       "      <td>Millions of chained 2012 dollars</td>\n",
       "      <td>0.039603</td>\n",
       "      <td>2017</td>\n",
       "    </tr>\n",
       "    <tr>\n",
       "      <th>4</th>\n",
       "      <td>Alaska</td>\n",
       "      <td>2014</td>\n",
       "      <td>0.278</td>\n",
       "      <td>27.8</td>\n",
       "      <td>35</td>\n",
       "      <td>33013.91056</td>\n",
       "      <td>736732</td>\n",
       "      <td>0.112337</td>\n",
       "      <td>11.23</td>\n",
       "      <td>53209.0</td>\n",
       "      <td>-0.0282</td>\n",
       "      <td>-2.82</td>\n",
       "      <td>37656.3</td>\n",
       "      <td>Far West Region</td>\n",
       "      <td>8</td>\n",
       "      <td>Millions of chained 2012 dollars</td>\n",
       "      <td>0.072223</td>\n",
       "      <td>2014</td>\n",
       "    </tr>\n",
       "  </tbody>\n",
       "</table>\n",
       "</div>"
      ],
      "text/plain": [
       "     State  Year  Adult.Obesity  Adult.Obesity*100  Average.Age  \\\n",
       "0  Alabama  2014          0.330               33.0           39   \n",
       "1  Alabama  2015          0.332               33.2           39   \n",
       "2  Alabama  2016          0.336               33.6           39   \n",
       "3  Alabama  2017          0.340               34.0           39   \n",
       "4   Alaska  2014          0.278               27.8           35   \n",
       "\n",
       "   Average.Income  Population  Poverty.Rate  Poverty.Rate*100  Real.GDP  \\\n",
       "0     23759.07328     4849377      0.192526             19.25  186335.0   \n",
       "1     24719.75935     4858979      0.184957             18.50  188715.7   \n",
       "2     25930.17889     4863300      0.170887             17.09  189613.6   \n",
       "3     26471.72046     4874747      0.168889             16.89  193053.0   \n",
       "4     33013.91056      736732      0.112337             11.23   53209.0   \n",
       "\n",
       "   Real.GDP.Growth  Real.GDP.Growth*100  Real.Personal.Income  \\\n",
       "0          -0.0097                -0.97              201887.4   \n",
       "1           0.0128                 1.28              210057.1   \n",
       "2           0.0048                 0.48              212195.6   \n",
       "3           0.0181                 1.81              215669.8   \n",
       "4          -0.0282                -2.82               37656.3   \n",
       "\n",
       "             Region  Region.Encoding                              Unit  \\\n",
       "0  Southeast Region                5  Millions of chained 2012 dollars   \n",
       "1  Southeast Region                5  Millions of chained 2012 dollars   \n",
       "2  Southeast Region                5  Millions of chained 2012 dollars   \n",
       "3  Southeast Region                5  Millions of chained 2012 dollars   \n",
       "4   Far West Region                8  Millions of chained 2012 dollars   \n",
       "\n",
       "   Real.GDP.Per.Capita  YearFE  \n",
       "0             0.038425    2014  \n",
       "1             0.038839    2015  \n",
       "2             0.038989    2016  \n",
       "3             0.039603    2017  \n",
       "4             0.072223    2014  "
      ]
     },
     "execution_count": 99,
     "metadata": {},
     "output_type": "execute_result"
    }
   ],
   "source": [
    "df = pd.read_csv(\"./Obesity_GDP_PanelData.csv\")\n",
    "df[\"Average.Age\"] = df[\"Average.Age\"].round().astype(\"int64\")\n",
    "df.head()"
   ]
  },
  {
   "cell_type": "markdown",
   "metadata": {},
   "source": [
    "- Top states with highest % of obesity"
   ]
  },
  {
   "cell_type": "code",
   "execution_count": 100,
   "metadata": {},
   "outputs": [
    {
     "data": {
      "text/plain": [
       "State\n",
       "Mississippi       35.350\n",
       "Louisiana         34.225\n",
       "West Virginia     33.750\n",
       "Alabama           33.450\n",
       "Arkansas          33.275\n",
       "Kentucky          32.450\n",
       "Oklahoma          32.350\n",
       "Tennessee         32.025\n",
       "South Carolina    31.650\n",
       "Michigan          31.500\n",
       "Name: Adult.Obesity*100, dtype: float64"
      ]
     },
     "execution_count": 100,
     "metadata": {},
     "output_type": "execute_result"
    }
   ],
   "source": [
    "avg_obesity_by_state = df.groupby(\"State\")[\"Adult.Obesity*100\"].mean().sort_values(ascending=False)\n",
    "top_10_state = avg_obesity_by_state[:10]\n",
    "top_10_state"
   ]
  },
  {
   "cell_type": "markdown",
   "metadata": {},
   "source": [
    "- Range regions in terms of obesity %"
   ]
  },
  {
   "cell_type": "code",
   "execution_count": 101,
   "metadata": {},
   "outputs": [
    {
     "data": {
      "text/plain": [
       "Region\n",
       "Southeast Region         31.472917\n",
       "Great Lakes Region       30.070000\n",
       "Plains Region            29.607143\n",
       "Southwest Region         27.237500\n",
       "Mideast Region           27.070000\n",
       "New England Region       25.733333\n",
       "Far West Region          25.416667\n",
       "Rocky Mountain Region    24.765000\n",
       "Name: Adult.Obesity*100, dtype: float64"
      ]
     },
     "execution_count": 101,
     "metadata": {},
     "output_type": "execute_result"
    }
   ],
   "source": [
    "avg_obesity_by_region = df.groupby(\"Region\")[\"Adult.Obesity*100\"].mean().sort_values(ascending=False)\n",
    "avg_obesity_by_region"
   ]
  },
  {
   "cell_type": "markdown",
   "metadata": {},
   "source": [
    "- What age group suffer obesity the most?"
   ]
  },
  {
   "cell_type": "code",
   "execution_count": 102,
   "metadata": {},
   "outputs": [
    {
     "data": {
      "text/plain": [
       "Average.Age\n",
       "39    28.920000\n",
       "38    28.735593\n",
       "36    28.475000\n",
       "41    28.357143\n",
       "35    28.325000\n",
       "37    28.066667\n",
       "42    26.950000\n",
       "40    26.260714\n",
       "33    25.000000\n",
       "Name: Adult.Obesity*100, dtype: float64"
      ]
     },
     "execution_count": 102,
     "metadata": {},
     "output_type": "execute_result"
    }
   ],
   "source": [
    "avg_obesity_by_age = df.groupby(\"Average.Age\")[\"Adult.Obesity*100\"].mean().sort_values(ascending=False)\n",
    "avg_obesity_by_age"
   ]
  },
  {
   "cell_type": "markdown",
   "metadata": {},
   "source": [
    "- Over 4 year (2014 - 2017), what top states in which obesity rate grows significantly"
   ]
  },
  {
   "cell_type": "code",
   "execution_count": 103,
   "metadata": {},
   "outputs": [
    {
     "data": {
      "text/plain": [
       "State\n",
       "Wyoming           1.9\n",
       "Arkansas          1.9\n",
       "Arizona           1.8\n",
       "Iowa              1.8\n",
       "Nevada            1.8\n",
       "West Virginia     1.6\n",
       "North Dakota      1.5\n",
       "Connecticut       1.4\n",
       "Idaho             1.3\n",
       "Wisconsin         1.3\n",
       "Ohio              1.3\n",
       "Rhode Island      1.1\n",
       "Georgia           1.1\n",
       "New Jersey        1.1\n",
       "Minnesota         1.0\n",
       "New Hampshire     1.0\n",
       "Alabama           1.0\n",
       "Alaska            0.9\n",
       "Maryland          0.8\n",
       "Delaware          0.7\n",
       "North Carolina    0.7\n",
       "Oklahoma          0.6\n",
       "Utah              0.6\n",
       "Louisiana         0.5\n",
       "New Mexico        0.5\n",
       "Pennsylvania      0.5\n",
       "Montana           0.5\n",
       "Nebraska          0.5\n",
       "Kansas            0.4\n",
       "Oregon            0.4\n",
       "Maine             0.4\n",
       "Kentucky          0.4\n",
       "Massachusetts     0.3\n",
       "South Carolina    0.3\n",
       "Indiana           0.3\n",
       "New York          0.1\n",
       "Hawaii            0.0\n",
       "Florida          -0.1\n",
       "Colorado         -0.1\n",
       "Michigan         -0.2\n",
       "Missouri         -0.3\n",
       "South Dakota     -0.3\n",
       "Tennessee        -0.3\n",
       "Vermont          -0.3\n",
       "Washington       -0.3\n",
       "Mississippi      -0.4\n",
       "Illinois         -0.4\n",
       "California       -0.5\n",
       "Texas            -0.8\n",
       "Virginia         -1.1\n",
       "Name: Adult.Obesity*100, dtype: float64"
      ]
     },
     "execution_count": 103,
     "metadata": {},
     "output_type": "execute_result"
    }
   ],
   "source": [
    "avg_obesity_state_2014 = df[df[\"Year\"] == 2014].groupby(\"State\")[\"Adult.Obesity*100\"].mean()\n",
    "avg_obesity_state_2017 = df[df[\"Year\"] == 2017].groupby(\"State\")[\"Adult.Obesity*100\"].mean()\n",
    "obesity_pct_change = (avg_obesity_state_2017 - avg_obesity_state_2014).sort_values(ascending=False)\n",
    "obesity_pct_change"
   ]
  },
  {
   "cell_type": "markdown",
   "metadata": {},
   "source": [
    "- Compare the obesity % of states with higher average salaries to those with lower salaries. How does average income influence obesity"
   ]
  },
  {
   "cell_type": "code",
   "execution_count": 108,
   "metadata": {},
   "outputs": [
    {
     "name": "stdout",
     "output_type": "stream",
     "text": [
      "Obesity rate in states with lower average income: 31.7575%\n",
      "Obesity rate in states with higher average income: 25.475%\n"
     ]
    }
   ],
   "source": [
    "income_by_state = df.groupby(\"State\")[\"Average.Income\"].mean().sort_values()\n",
    "higher_income_sates = income_by_state[-10:].index.tolist()\n",
    "lower_income_sates = income_by_state[:10].index.tolist()\n",
    "\n",
    "obesity_higher_income = df[df[\"State\"].isin(higher_income_sates)][\"Adult.Obesity*100\"].mean()\n",
    "obesity_lower_income = df[df[\"State\"].isin(lower_income_sates)][\"Adult.Obesity*100\"].mean()\n",
    "print(f\"Obesity rate in states with lower average income: {obesity_lower_income}%\")\n",
    "print(f\"Obesity rate in states with higher average income: {obesity_higher_income}%\")"
   ]
  },
  {
   "cell_type": "markdown",
   "metadata": {},
   "source": [
    "- Correlation between GDP and obesity "
   ]
  },
  {
   "cell_type": "code",
   "execution_count": 109,
   "metadata": {},
   "outputs": [
    {
     "data": {
      "text/plain": [
       "Index(['State', 'Year', 'Adult.Obesity', 'Adult.Obesity*100', 'Average.Age',\n",
       "       'Average.Income', 'Population', 'Poverty.Rate', 'Poverty.Rate*100',\n",
       "       'Real.GDP', 'Real.GDP.Growth', 'Real.GDP.Growth*100',\n",
       "       'Real.Personal.Income', 'Region', 'Region.Encoding', 'Unit',\n",
       "       'Real.GDP.Per.Capita', 'YearFE'],\n",
       "      dtype='object')"
      ]
     },
     "execution_count": 109,
     "metadata": {},
     "output_type": "execute_result"
    }
   ],
   "source": [
    "df.columns"
   ]
  },
  {
   "cell_type": "code",
   "execution_count": 110,
   "metadata": {},
   "outputs": [
    {
     "data": {
      "text/plain": [
       "-0.24516474612975298"
      ]
     },
     "execution_count": 110,
     "metadata": {},
     "output_type": "execute_result"
    }
   ],
   "source": [
    "df[\"Real.GDP\"].corr(df[\"Adult.Obesity*100\"])"
   ]
  },
  {
   "cell_type": "markdown",
   "metadata": {},
   "source": [
    "- Correlation between peverty and obesity"
   ]
  },
  {
   "cell_type": "code",
   "execution_count": 111,
   "metadata": {},
   "outputs": [
    {
     "data": {
      "text/plain": [
       "0.4827295847943033"
      ]
     },
     "execution_count": 111,
     "metadata": {},
     "output_type": "execute_result"
    }
   ],
   "source": [
    "df[\"Poverty.Rate*100\"].corr(df[\"Adult.Obesity*100\"])"
   ]
  },
  {
   "cell_type": "code",
   "execution_count": null,
   "metadata": {},
   "outputs": [],
   "source": []
  }
 ],
 "metadata": {
  "kernelspec": {
   "display_name": "Python 3.9.0 ('env': venv)",
   "language": "python",
   "name": "python3"
  },
  "language_info": {
   "codemirror_mode": {
    "name": "ipython",
    "version": 3
   },
   "file_extension": ".py",
   "mimetype": "text/x-python",
   "name": "python",
   "nbconvert_exporter": "python",
   "pygments_lexer": "ipython3",
   "version": "3.9.0"
  },
  "orig_nbformat": 4,
  "vscode": {
   "interpreter": {
    "hash": "0bd2c8de8d9c1195b39d652bb25b414e6de27504976c0c3cdc160397bb23b095"
   }
  }
 },
 "nbformat": 4,
 "nbformat_minor": 2
}

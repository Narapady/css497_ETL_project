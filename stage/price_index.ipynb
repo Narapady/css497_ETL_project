{
 "cells": [
  {
   "cell_type": "code",
   "execution_count": 245,
   "metadata": {},
   "outputs": [],
   "source": [
    "import pandas as pd\n",
    "import os\n",
    "import numpy as np"
   ]
  },
  {
   "cell_type": "code",
   "execution_count": 246,
   "metadata": {},
   "outputs": [],
   "source": [
    "def pct_change_list_2022(path: str, pi_type: str) -> list[float]:\n",
    "    df = pd.read_excel(path)\n",
    "    if pi_type == \"consumer\":\n",
    "        col = \"Forecast range2 2022\"\n",
    "    elif pi_type == \"producer\":\n",
    "        col = \"Forecast range1 2022\"\n",
    "    \n",
    "    df.columns = df.iloc[0]\n",
    "    df = df[2:].dropna(how=\"all\")\n",
    "    pct_change = df[col].tolist()[:-5]\n",
    "    result = []\n",
    "    for pct in pct_change:\n",
    "        if pct is np.nan:\n",
    "            result.append(np.nan)\n",
    "        elif \"to\" in pct:\n",
    "            num = pct.split(\"to\")\n",
    "            num1, num2 = float(num[0].strip()[:3]), float(num[1].strip()[:3]) \n",
    "            result.append(np.mean([num1, num2]))        \n",
    "\n",
    "    return result  "
   ]
  },
  {
   "cell_type": "code",
   "execution_count": 247,
   "metadata": {},
   "outputs": [],
   "source": [
    "cpi_path = \"./Consumer Price Index/historicalcpi.xlsx\"\n",
    "ppi_path = \"./Producer Price Index/historicalppi.xlsx\"\n",
    "\n",
    "def price_index_pct_change(path: str, pi_type: str) -> pd.DataFrame:\n",
    "    df = pd.read_excel(path)\n",
    "    df.columns = df.iloc[0]\n",
    "    if pi_type == \"consumer\":\n",
    "        df = df.iloc[1:27, :list(df.columns).index(2021.0) + 1].dropna(how=\"all\")\n",
    "        pct_change_2022_path = \"./Consumer Price Index/CPIforecast.xlsx\"\n",
    "    elif pi_type == \"producer\":\n",
    "        df = df.iloc[1:26, :list(df.columns).index(2021.0) + 1].dropna(how=\"all\")\n",
    "        pct_change_2022_path = \"./Producer Price Index/PPIforecast.xlsx\"\n",
    "    cols = [str(year) for year in list(df.columns)]\n",
    "    cols[1:] = [year[:-2] for year in cols[1:]]\n",
    "    df.columns = cols\n",
    "\n",
    "    df.insert(df.shape[1], \"2022\", pct_change_list_2022(pct_change_2022_path, pi_type))\n",
    "    df.reset_index(drop=True, inplace=True)\n",
    "    \n",
    "    return df "
   ]
  },
  {
   "cell_type": "code",
   "execution_count": 250,
   "metadata": {},
   "outputs": [],
   "source": [
    "cpi_path = \"./Consumer Price Index/historicalcpi.xlsx\"\n",
    "ppi_path = \"./Producer Price Index/historicalppi.xlsx\"\n",
    "paths = [cpi_path, ppi_path]\n",
    "dirname = \"price-index-clean\"\n",
    "os.mkdir(dirname)\n",
    "for path in paths:\n",
    "    filename = path.split(\"/\")[1].lower().replace(\" \", \"-\") + \"-clean\"\n",
    "    pi_type = filename.split(\"-\")[0]\n",
    "    df = price_index_pct_change(path, pi_type)\n",
    "    df.to_csv(f\"{dirname}/{filename}.csv\", index=False)\n",
    "    "
   ]
  },
  {
   "cell_type": "code",
   "execution_count": null,
   "metadata": {},
   "outputs": [],
   "source": []
  }
 ],
 "metadata": {
  "kernelspec": {
   "display_name": "Python 3.9.0 ('env': venv)",
   "language": "python",
   "name": "python3"
  },
  "language_info": {
   "codemirror_mode": {
    "name": "ipython",
    "version": 3
   },
   "file_extension": ".py",
   "mimetype": "text/x-python",
   "name": "python",
   "nbconvert_exporter": "python",
   "pygments_lexer": "ipython3",
   "version": "3.9.0"
  },
  "orig_nbformat": 4,
  "vscode": {
   "interpreter": {
    "hash": "0bd2c8de8d9c1195b39d652bb25b414e6de27504976c0c3cdc160397bb23b095"
   }
  }
 },
 "nbformat": 4,
 "nbformat_minor": 2
}

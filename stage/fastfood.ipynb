{
 "cells": [
  {
   "cell_type": "code",
   "execution_count": 48,
   "metadata": {},
   "outputs": [],
   "source": [
    "import pandas as pd\n",
    "import os"
   ]
  },
  {
   "cell_type": "code",
   "execution_count": 64,
   "metadata": {},
   "outputs": [
    {
     "data": {
      "text/plain": [
       "0"
      ]
     },
     "execution_count": 64,
     "metadata": {},
     "output_type": "execute_result"
    }
   ],
   "source": [
    "os.system(\"rm -rf fast-food-clean\")"
   ]
  },
  {
   "cell_type": "code",
   "execution_count": 63,
   "metadata": {},
   "outputs": [],
   "source": [
    "paths = [\"2016\", \"2015\", \"2014\"]\n",
    "dirname = \"fast-food-clean\"\n",
    "os.mkdir(dirname)\n",
    "for path in paths:\n",
    "    try:\n",
    "        df = pd.read_excel(f\"{path}/Table4_{path}.xlsx\")\n",
    "    except FileNotFoundError:\n",
    "        df = pd.read_excel(f\"{path}/table4_{path}.xls\")\n",
    "        \n",
    "    year = path.split(\"/\")[0]\n",
    "    if  year == \"2016\":\n",
    "        df.columns = [\"times/week\", \"unit\", \"total\", \"men\", \"women\", \"total_se\", \"men_se\", \"women_se\"]\n",
    "        end = df[df[\"times/week\"] == \"By age\"].index[0] - 1\n",
    "        df = df.iloc[3:end, :5]\n",
    "    else:\n",
    "        df.columns =[\"times/week\", \"unit\", \"total\", \"men\", \"women\"] \n",
    "        end = df[df[\"times/week\"] == \"By age\"].index[0] - 1\n",
    "        df = df.iloc[3:end, :]\n",
    "\n",
    "    df = df.dropna()\n",
    "    age_group = [\"age-15-and-older\", \"age-18-and-older\"]\n",
    "    middle = int(df.shape[0] / 2) + 1\n",
    "    df1, df2 = df.iloc[:middle,:], df.iloc[middle: ,:]\n",
    "    \n",
    "    df1.to_csv(f\"{dirname}/{age_group[0]}-{year}.csv\", index=False) \n",
    "    df2.to_csv(f\"{dirname}/{age_group[1]}-{year}.csv\", index=False) \n",
    "\n",
    "        "
   ]
  },
  {
   "cell_type": "code",
   "execution_count": null,
   "metadata": {},
   "outputs": [],
   "source": []
  }
 ],
 "metadata": {
  "kernelspec": {
   "display_name": "Python 3.9.0 ('env': venv)",
   "language": "python",
   "name": "python3"
  },
  "language_info": {
   "codemirror_mode": {
    "name": "ipython",
    "version": 3
   },
   "file_extension": ".py",
   "mimetype": "text/x-python",
   "name": "python",
   "nbconvert_exporter": "python",
   "pygments_lexer": "ipython3",
   "version": "3.9.0"
  },
  "orig_nbformat": 4,
  "vscode": {
   "interpreter": {
    "hash": "0bd2c8de8d9c1195b39d652bb25b414e6de27504976c0c3cdc160397bb23b095"
   }
  }
 },
 "nbformat": 4,
 "nbformat_minor": 2
}

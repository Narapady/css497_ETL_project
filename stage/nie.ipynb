{
 "cells": [
  {
   "cell_type": "code",
   "execution_count": 214,
   "metadata": {},
   "outputs": [],
   "source": [
    "import pandas as pd\n",
    "import os"
   ]
  },
  {
   "cell_type": "markdown",
   "metadata": {},
   "source": [
    "# Nutrient Intake Estimate\n",
    "## Nutrient_table1.xls\n",
    "### How much nutrients (energy, calcium, cholesterol, Fiber, Ion, total fat, sodium) each  demographic group on daily (children age 2-9, adults age 20-64, senior age 65 and above) take (2015-2016, 2017-2018)\n"
   ]
  },
  {
   "cell_type": "code",
   "execution_count": 317,
   "metadata": {},
   "outputs": [],
   "source": [
    "def change_name(input_str: str) -> str:\n",
    "    input_str = input_str.strip()\n",
    "    if input_str == \"Total population1\":\n",
    "        return \"Total population\"\n",
    "    if input_str == \"Adults age 20–642\":\n",
    "        return \"Adults age 20-64\"\n",
    "    if input_str == \"Seniors age 65 and above2\":\n",
    "        return \"Seniors age 65 and above\"\n",
    "    return input_str\n",
    "\n",
    "def get_dirname(input_str: str) -> str:\n",
    "    s = input_str.split(\"/\")[0]\n",
    "    s = \"\".join(s)\n",
    "    return s.lower().replace(\" \", \"-\")\n",
    "\n",
    "def get_columns(dir_path: str) -> list[str]:\n",
    "    col_names = [\n",
    "    \"total-2015-2016\",\n",
    "    \"at-home-2015-2016\",\n",
    "    \"total_afh-2015-2016\",\n",
    "    \"restaurant-2015-2016\",\n",
    "    \"fast-food-2015-2016\",\n",
    "    \"school-2015-2016\",\n",
    "    \"other_afh-2015-2016\",\n",
    "    \"total-2017-2018\",\n",
    "    \"at-home-2017-2018\",\n",
    "    \"total_afh-2017-2018\",\n",
    "    \"restaurant-2017-2018\",\n",
    "    \"fast-food-2017-2018\",\n",
    "    \"school-2017-2018\",\n",
    "    \"other_afh-2017-2018\",\n",
    "    ]\n",
    "    \n",
    "    if dir_path.startswith(\"Nutrient\"):\n",
    "        col_names.insert(0, 'nutrient-group')\n",
    "    elif dir_path.startswith(\"Food\"): \n",
    "        col_names.insert(0, 'food-group')\n",
    "    \n",
    "    return col_names\n",
    "\n",
    "    "
   ]
  },
  {
   "cell_type": "code",
   "execution_count": 321,
   "metadata": {},
   "outputs": [
    {
     "data": {
      "text/plain": [
       "0"
      ]
     },
     "execution_count": 321,
     "metadata": {},
     "output_type": "execute_result"
    }
   ],
   "source": [
    "os.system(\"rm -rf food-consumption-estimates-clean\")\n",
    "os.system(\"rm -rf nutrient-intake-estimates-clean\")"
   ]
  },
  {
   "cell_type": "code",
   "execution_count": 320,
   "metadata": {},
   "outputs": [],
   "source": [
    "paths = [\"Nutrient Intake Estimates/nutrient_table1.xlsx\", \"Food Consumption Estimates/food_table1.xlsx\"]\n",
    "for path in paths:\n",
    "    df = pd.read_excel(path)\n",
    "    \n",
    "    df.columns = get_columns(path)\n",
    "    first_col = list(df.columns)[0]\n",
    "    end = 0\n",
    "\n",
    "    for val in df[first_col].unique():\n",
    "        if \"Note\" in str(val):\n",
    "            end = df[df[first_col] == val].index[0]\n",
    "    df = df[3:end]\n",
    "    \n",
    "    group = []\n",
    "    for i, row in df.iterrows():\n",
    "        if \"(\" in row[first_col]:\n",
    "            group.append(row[first_col])\n",
    "            df = df.drop(i)\n",
    "    \n",
    "    df[first_col] = df[first_col].apply(lambda x: change_name(x))\n",
    "    demographics = df[first_col].unique()      \n",
    "    \n",
    "    new_dir = get_dirname(path) + \"-clean\"\n",
    "    os.mkdir(new_dir)\n",
    "    for demo in demographics:\n",
    "        new_df = df[df[first_col] == demo]\n",
    "        new_df = new_df.drop(columns=first_col)\n",
    "        df1, df2 = new_df.iloc[:, 1:7], new_df.iloc[:, 8:]\n",
    "        df1.insert(0, first_col, group)\n",
    "        df2.insert(0, first_col, group)\n",
    "        \n",
    "        df1_postfix = list(df1.columns)[1][8:]\n",
    "        df2_postfix = list(df2.columns)[1][8:]\n",
    "\n",
    "        df1.to_csv(f\"{new_dir}/{demo}-{df1_postfix}.csv\", index=False)\n",
    "        df2.to_csv(f\"{new_dir}/{demo}-{df2_postfix}.csv\", index=False)\n",
    "    \n",
    "    \n",
    "    "
   ]
  }
 ],
 "metadata": {
  "kernelspec": {
   "display_name": "Python 3.9.0 ('env': venv)",
   "language": "python",
   "name": "python3"
  },
  "language_info": {
   "codemirror_mode": {
    "name": "ipython",
    "version": 3
   },
   "file_extension": ".py",
   "mimetype": "text/x-python",
   "name": "python",
   "nbconvert_exporter": "python",
   "pygments_lexer": "ipython3",
   "version": "3.9.0"
  },
  "orig_nbformat": 4,
  "vscode": {
   "interpreter": {
    "hash": "0bd2c8de8d9c1195b39d652bb25b414e6de27504976c0c3cdc160397bb23b095"
   }
  }
 },
 "nbformat": 4,
 "nbformat_minor": 2
}
